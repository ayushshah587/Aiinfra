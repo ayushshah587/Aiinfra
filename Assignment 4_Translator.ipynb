{
 "cells": [
  {
   "cell_type": "markdown",
   "id": "ed08cbbd",
   "metadata": {},
   "source": [
    "# Ayush Shah and Mohit Mandlewala"
   ]
  },
  {
   "cell_type": "code",
   "execution_count": 3,
   "id": "ec6cd5ed",
   "metadata": {},
   "outputs": [
    {
     "name": "stdout",
     "output_type": "stream",
     "text": [
      "[\n",
      "    {\n",
      "        \"translations\": [\n",
      "            {\n",
      "                \"text\": \"मैं कक्षा 5 में हूं और कैलिफोर्निया में रहता हूं। हम चार सदस्यों का परिवार हैं। मेरे पिता एक वास्तुकार हैं और मेरी मां एक शिक्षक हैं। मेरे दो भाई-बहन हैं जो मुझसे बड़े हैं।  मैं उनमें से हूं जो एक बेहद शर्मीला और शांत व्यक्ति है। यह अक्सर लोगों को गलत समझता है कि मैं आत्मविश्वास से बात नहीं कर सकता। लेकिन, यह सच नहीं है क्योंकि मुझे विभिन्न चीजों पर अपार ज्ञान है। हालांकि, मैं बोलने से पहले जगह और स्थिति का आकलन करना पसंद करता हूं। जब कोई मुझसे संपर्क करता है, तो मैं उनके सवालों के जवाब देने के लिए विनम्र और दयालु होना चाहता हूं। \",\n",
      "                \"to\": \"hi\"\n",
      "            },\n",
      "            {\n",
      "                \"text\": \"Je suis en 5e année et je vis en Californie. Nous sommes une famille de quatre membres. Mon père est architecte et ma mère enseignante. J’ai deux frères et sœurs qui sont plus âgés que moi.  Je suis quelqu’un qui est une personne extrêmement timide et calme. Cela fait souvent mal comprendre aux gens que je ne peux pas parler avec confiance. Mais, ce n’est pas vrai car j’ai une immense connaissance sur différentes choses. Cependant, j’aime évaluer le lieu et la situation avant de parler. Quand quelqu’un s’approche de moi, j’aimerais être humble et assez gentil pour répondre à ses questions. \",\n",
      "                \"to\": \"fr\"\n",
      "            },\n",
      "            {\n",
      "                \"text\": \"أنا في الصف 5 وأعيش في كاليفورنيا. نحن عائلة مكونة من أربعة أفراد. والدي مهندس معماري وأمي معلمة. لدي شقيقان أكبر مني.  أنا شخص خجول وهادئ للغاية. هذا غالبا ما يجعل الناس يسيئون فهم أنني لا أستطيع التحدث بثقة. لكن هذا ليس صحيحا لأن لدي معرفة هائلة بأشياء مختلفة. ومع ذلك ، أحب تقييم المكان والوضع قبل التحدث. عندما يقترب مني شخص ما ، أود أن أكون متواضعا ولطيفا بما يكفي للإجابة على أسئلتهم. \",\n",
      "                \"to\": \"ar\"\n",
      "            },\n",
      "            {\n",
      "                \"text\": \"Olen 5. luokalla ja asun Kaliforniassa. Olemme neljän jäsenen perhe. Isäni on arkkitehti ja äitini on opettaja. Minulla on kaksi sisarusta, jotka ovat minua vanhempia.  Olen henkilö, joka on erittäin ujo ja hiljainen ihminen. Tämä saa ihmiset usein ymmärtämään väärin, etten voi puhua luottavaisesti. Mutta se ei ole totta, koska minulla on valtava tieto eri asioista. Haluan kuitenkin arvioida paikan ja tilanteen ennen puhumista. Kun joku lähestyy minua, haluaisin olla nöyrä ja ystävällinen vastaamaan hänen kysymyksiinsä. \",\n",
      "                \"to\": \"fi\"\n",
      "            },\n",
      "            {\n",
      "                \"text\": \"私は5年生で、カリフォルニアに住んでいます。私たちは4人のメンバーの家族です。父は建築家、母は教師です。私には私より年上の兄弟が2人います。 私は非常に恥ずかしがり屋で静かな人です。これはしばしば私が自信を持って話すことができないと人々に誤解させます。しかし、私はさまざまなことについて膨大な知識を持っているので、それは真実ではありません。しかし、私は話す前に場所と状況を評価するのが好きです。誰かが私に近づいたとき、私は彼らの質問に答えるのに十分謙虚で親切になりたいと思います。\",\n",
      "                \"to\": \"ja\"\n",
      "            }\n",
      "        ]\n",
      "    }\n",
      "]\n"
     ]
    }
   ],
   "source": [
    "import requests, uuid, json\n",
    "\n",
    "# Add your subscription key and endpoint\n",
    "subscription_key = \"b7a7035728d3451087c78454d66048e0\"\n",
    "endpoint = \"https://api.cognitive.microsofttranslator.com/\"\n",
    "\n",
    "# Add your location, also known as region. The default is global.\n",
    "# This is required if using a Cognitive Services resource.\n",
    "location = \"eastus\"\n",
    "\n",
    "path = '/translate'\n",
    "constructed_url = endpoint + path\n",
    "\n",
    "params = {\n",
    "    'api-version': '3.0',\n",
    "    'from': 'en',\n",
    "    'to': ['hi', 'fr','ar','fi','ja']\n",
    "}\n",
    "constructed_url = endpoint + path\n",
    "\n",
    "headers = {\n",
    "    'Ocp-Apim-Subscription-Key': subscription_key,\n",
    "    'Ocp-Apim-Subscription-Region': location,\n",
    "    'Content-type': 'application/json',\n",
    "    'X-ClientTraceId': str(uuid.uuid4())\n",
    "}\n",
    "\n",
    "# You can pass more than one object in body.\n",
    "body = [{\n",
    "    'text': 'I am in grade 5 and live in California. We are a family of four members. My father is an architect and my mother is a teacher. I have two siblings who are older than me.  I am someone who is an extremely shy and quiet person. This often makes people misunderstand that I cannot speak confidently. But, it is not true as I have immense knowledge on different things. However, I like to assess the place and situation before speaking. When someone approaches me, I would like to be humble and kind enough to answer their questions. '\n",
    "}]\n",
    "\n",
    "request = requests.post(constructed_url, params=params, headers=headers, json=body)\n",
    "response = request.json()\n",
    "\n",
    "print(json.dumps(response, sort_keys=True, ensure_ascii=False, indent=4, separators=(',', ': ')))"
   ]
  },
  {
   "cell_type": "code",
   "execution_count": null,
   "id": "ee8c5d26",
   "metadata": {},
   "outputs": [],
   "source": []
  },
  {
   "cell_type": "code",
   "execution_count": null,
   "id": "fd3ceb83",
   "metadata": {},
   "outputs": [],
   "source": []
  }
 ],
 "metadata": {
  "kernelspec": {
   "display_name": "Python 3 (ipykernel)",
   "language": "python",
   "name": "python3"
  },
  "language_info": {
   "codemirror_mode": {
    "name": "ipython",
    "version": 3
   },
   "file_extension": ".py",
   "mimetype": "text/x-python",
   "name": "python",
   "nbconvert_exporter": "python",
   "pygments_lexer": "ipython3",
   "version": "3.10.10"
  }
 },
 "nbformat": 4,
 "nbformat_minor": 5
}
